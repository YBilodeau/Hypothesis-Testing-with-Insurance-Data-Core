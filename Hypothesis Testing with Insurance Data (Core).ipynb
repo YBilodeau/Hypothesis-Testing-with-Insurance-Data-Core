{
 "cells": [
  {
   "cell_type": "markdown",
   "id": "82296075",
   "metadata": {},
   "source": [
    "# **Hypothesis Testing with Insurance Data (Core)**"
   ]
  },
  {
   "cell_type": "markdown",
   "id": "6228c7fa",
   "metadata": {},
   "source": [
    "- Yvon Bilodeau\n",
    "- May 2022"
   ]
  },
  {
   "cell_type": "markdown",
   "id": "58150b2c",
   "metadata": {},
   "source": [
    "For this assignment, we will be working with the [US Health Insurance Dataset](https://docs.google.com/spreadsheets/d/e/2PACX-1vQBN8DPW2rdiRrY34eEM53HAzakNGSRrw4ogI-j8HyCUrbqTB_z4CeIn2IvjLF-w_6sOe5pIlypJGAA/pub?output=csv) from [Kaggle](https://www.kaggle.com/teertha/ushealthinsurancedataset).\n",
    "\n",
    "We have been asked to use our hypothesis testing skills to answer the following questions:\n",
    "\n",
    "- Q1. Do smokers have higher insurance charges than non-smokers?\n",
    "- Q2. Are men more likely to smoke than women?\n",
    "- Q3. Do different regions have different charges, on average?\n",
    "\n",
    "For each question, make sure to:\n",
    "\n",
    "- State your Null Hypothesis and Alternative Hypothesis\n",
    "- Select the correct test according to the data type and number of samples\n",
    "- Test the assumptions of your selected test.\n",
    "- Execute the selected test, or the alternative test (if you do not meet the assumptions)\n",
    "- Interpret your p-value and reject or fail to reject your null hypothesis \n",
    "- Show a supporting visualization that helps display the result"
   ]
  },
  {
   "cell_type": "markdown",
   "id": "a80db219",
   "metadata": {},
   "source": [
    "## **Import Libraries**"
   ]
  },
  {
   "cell_type": "code",
   "execution_count": 1,
   "id": "5e78b4af",
   "metadata": {},
   "outputs": [],
   "source": [
    "# Import libraries\n",
    "import numpy as np\n",
    "import pandas as pd\n",
    "import matplotlib.pyplot as plt\n",
    "import seaborn as sns\n",
    "import json\n",
    "from scipy import stats"
   ]
  },
  {
   "cell_type": "markdown",
   "id": "d45f5716",
   "metadata": {},
   "source": [
    "## **Import Data**"
   ]
  },
  {
   "cell_type": "code",
   "execution_count": 2,
   "id": "dfe3db0c",
   "metadata": {},
   "outputs": [],
   "source": [
    "# Load file\n",
    "df = pd.read_csv('https://docs.google.com/spreadsheets/d/e/2PACX-1vQBN8DPW2rdiRrY34eEM53HAzakNGSRrw4ogI-j8HyCUrbqTB_z4CeIn2IvjLF-w_6sOe5pIlypJGAA/pub?output=csv')"
   ]
  },
  {
   "cell_type": "code",
   "execution_count": 3,
   "id": "04cd0221",
   "metadata": {},
   "outputs": [
    {
     "data": {
      "text/html": [
       "<div>\n",
       "<style scoped>\n",
       "    .dataframe tbody tr th:only-of-type {\n",
       "        vertical-align: middle;\n",
       "    }\n",
       "\n",
       "    .dataframe tbody tr th {\n",
       "        vertical-align: top;\n",
       "    }\n",
       "\n",
       "    .dataframe thead th {\n",
       "        text-align: right;\n",
       "    }\n",
       "</style>\n",
       "<table border=\"1\" class=\"dataframe\">\n",
       "  <thead>\n",
       "    <tr style=\"text-align: right;\">\n",
       "      <th></th>\n",
       "      <th>age</th>\n",
       "      <th>sex</th>\n",
       "      <th>bmi</th>\n",
       "      <th>children</th>\n",
       "      <th>smoker</th>\n",
       "      <th>region</th>\n",
       "      <th>charges</th>\n",
       "    </tr>\n",
       "  </thead>\n",
       "  <tbody>\n",
       "    <tr>\n",
       "      <th>0</th>\n",
       "      <td>19</td>\n",
       "      <td>female</td>\n",
       "      <td>27.900</td>\n",
       "      <td>0</td>\n",
       "      <td>yes</td>\n",
       "      <td>southwest</td>\n",
       "      <td>16884.92400</td>\n",
       "    </tr>\n",
       "    <tr>\n",
       "      <th>1</th>\n",
       "      <td>18</td>\n",
       "      <td>male</td>\n",
       "      <td>33.770</td>\n",
       "      <td>1</td>\n",
       "      <td>no</td>\n",
       "      <td>southeast</td>\n",
       "      <td>1725.55230</td>\n",
       "    </tr>\n",
       "    <tr>\n",
       "      <th>2</th>\n",
       "      <td>28</td>\n",
       "      <td>male</td>\n",
       "      <td>33.000</td>\n",
       "      <td>3</td>\n",
       "      <td>no</td>\n",
       "      <td>southeast</td>\n",
       "      <td>4449.46200</td>\n",
       "    </tr>\n",
       "    <tr>\n",
       "      <th>3</th>\n",
       "      <td>33</td>\n",
       "      <td>male</td>\n",
       "      <td>22.705</td>\n",
       "      <td>0</td>\n",
       "      <td>no</td>\n",
       "      <td>northwest</td>\n",
       "      <td>21984.47061</td>\n",
       "    </tr>\n",
       "    <tr>\n",
       "      <th>4</th>\n",
       "      <td>32</td>\n",
       "      <td>male</td>\n",
       "      <td>28.880</td>\n",
       "      <td>0</td>\n",
       "      <td>no</td>\n",
       "      <td>northwest</td>\n",
       "      <td>3866.85520</td>\n",
       "    </tr>\n",
       "  </tbody>\n",
       "</table>\n",
       "</div>"
      ],
      "text/plain": [
       "   age     sex     bmi  children smoker     region      charges\n",
       "0   19  female  27.900         0    yes  southwest  16884.92400\n",
       "1   18    male  33.770         1     no  southeast   1725.55230\n",
       "2   28    male  33.000         3     no  southeast   4449.46200\n",
       "3   33    male  22.705         0     no  northwest  21984.47061\n",
       "4   32    male  28.880         0     no  northwest   3866.85520"
      ]
     },
     "execution_count": 3,
     "metadata": {},
     "output_type": "execute_result"
    }
   ],
   "source": [
    "# Display the first (5) rows\n",
    "df.head()"
   ]
  },
  {
   "cell_type": "markdown",
   "id": "1ebe8b28",
   "metadata": {},
   "source": [
    "## **Questions**"
   ]
  },
  {
   "cell_type": "markdown",
   "id": "e546474f",
   "metadata": {},
   "source": [
    "### **Q1. Do smokers have higher insurance charges than non-smokers?**"
   ]
  },
  {
   "cell_type": "code",
   "execution_count": 4,
   "id": "f9cd8ea0",
   "metadata": {
    "scrolled": true
   },
   "outputs": [
    {
     "data": {
      "text/html": [
       "<div>\n",
       "<style scoped>\n",
       "    .dataframe tbody tr th:only-of-type {\n",
       "        vertical-align: middle;\n",
       "    }\n",
       "\n",
       "    .dataframe tbody tr th {\n",
       "        vertical-align: top;\n",
       "    }\n",
       "\n",
       "    .dataframe thead th {\n",
       "        text-align: right;\n",
       "    }\n",
       "</style>\n",
       "<table border=\"1\" class=\"dataframe\">\n",
       "  <thead>\n",
       "    <tr style=\"text-align: right;\">\n",
       "      <th></th>\n",
       "      <th>smoker</th>\n",
       "      <th>charges</th>\n",
       "    </tr>\n",
       "  </thead>\n",
       "  <tbody>\n",
       "    <tr>\n",
       "      <th>0</th>\n",
       "      <td>yes</td>\n",
       "      <td>16884.9240</td>\n",
       "    </tr>\n",
       "    <tr>\n",
       "      <th>11</th>\n",
       "      <td>yes</td>\n",
       "      <td>27808.7251</td>\n",
       "    </tr>\n",
       "    <tr>\n",
       "      <th>14</th>\n",
       "      <td>yes</td>\n",
       "      <td>39611.7577</td>\n",
       "    </tr>\n",
       "    <tr>\n",
       "      <th>19</th>\n",
       "      <td>yes</td>\n",
       "      <td>36837.4670</td>\n",
       "    </tr>\n",
       "    <tr>\n",
       "      <th>23</th>\n",
       "      <td>yes</td>\n",
       "      <td>37701.8768</td>\n",
       "    </tr>\n",
       "  </tbody>\n",
       "</table>\n",
       "</div>"
      ],
      "text/plain": [
       "   smoker     charges\n",
       "0     yes  16884.9240\n",
       "11    yes  27808.7251\n",
       "14    yes  39611.7577\n",
       "19    yes  36837.4670\n",
       "23    yes  37701.8768"
      ]
     },
     "execution_count": 4,
     "metadata": {},
     "output_type": "execute_result"
    }
   ],
   "source": [
    "smoker_df = df.loc[df.smoker =='yes', ['smoker','charges']]\n",
    "smoker_df.head()"
   ]
  },
  {
   "cell_type": "code",
   "execution_count": 5,
   "id": "b4dadcc0",
   "metadata": {},
   "outputs": [
    {
     "data": {
      "text/plain": [
       "274"
      ]
     },
     "execution_count": 5,
     "metadata": {},
     "output_type": "execute_result"
    }
   ],
   "source": [
    "len(smoker_df)"
   ]
  },
  {
   "cell_type": "code",
   "execution_count": 6,
   "id": "a239a1d1",
   "metadata": {},
   "outputs": [
    {
     "data": {
      "text/html": [
       "<div>\n",
       "<style scoped>\n",
       "    .dataframe tbody tr th:only-of-type {\n",
       "        vertical-align: middle;\n",
       "    }\n",
       "\n",
       "    .dataframe tbody tr th {\n",
       "        vertical-align: top;\n",
       "    }\n",
       "\n",
       "    .dataframe thead th {\n",
       "        text-align: right;\n",
       "    }\n",
       "</style>\n",
       "<table border=\"1\" class=\"dataframe\">\n",
       "  <thead>\n",
       "    <tr style=\"text-align: right;\">\n",
       "      <th></th>\n",
       "      <th>smoker</th>\n",
       "      <th>charges</th>\n",
       "    </tr>\n",
       "  </thead>\n",
       "  <tbody>\n",
       "    <tr>\n",
       "      <th>1</th>\n",
       "      <td>no</td>\n",
       "      <td>1725.55230</td>\n",
       "    </tr>\n",
       "    <tr>\n",
       "      <th>2</th>\n",
       "      <td>no</td>\n",
       "      <td>4449.46200</td>\n",
       "    </tr>\n",
       "    <tr>\n",
       "      <th>3</th>\n",
       "      <td>no</td>\n",
       "      <td>21984.47061</td>\n",
       "    </tr>\n",
       "    <tr>\n",
       "      <th>4</th>\n",
       "      <td>no</td>\n",
       "      <td>3866.85520</td>\n",
       "    </tr>\n",
       "    <tr>\n",
       "      <th>5</th>\n",
       "      <td>no</td>\n",
       "      <td>3756.62160</td>\n",
       "    </tr>\n",
       "  </tbody>\n",
       "</table>\n",
       "</div>"
      ],
      "text/plain": [
       "  smoker      charges\n",
       "1     no   1725.55230\n",
       "2     no   4449.46200\n",
       "3     no  21984.47061\n",
       "4     no   3866.85520\n",
       "5     no   3756.62160"
      ]
     },
     "execution_count": 6,
     "metadata": {},
     "output_type": "execute_result"
    }
   ],
   "source": [
    "nonsmoker_df = df.loc[df.smoker =='no', ['smoker','charges']]\n",
    "nonsmoker_df.head()"
   ]
  },
  {
   "cell_type": "code",
   "execution_count": 7,
   "id": "fe7ebec2",
   "metadata": {},
   "outputs": [
    {
     "data": {
      "text/plain": [
       "1064"
      ]
     },
     "execution_count": 7,
     "metadata": {},
     "output_type": "execute_result"
    }
   ],
   "source": [
    "len(nonsmoker_df)"
   ]
  },
  {
   "cell_type": "markdown",
   "id": "88962630",
   "metadata": {},
   "source": [
    "#### **State your Null Hypothesis and Alternative Hypothesis**\n"
   ]
  },
  {
   "cell_type": "markdown",
   "id": "0f4ed7b9",
   "metadata": {},
   "source": [
    "- **H0 Null Hypothesis** \n",
    " - _No statistical significance exists._\n",
    " - No significant difference in insurance costs exists between smokers and non-smokers.\n",
    "\n",
    "\n",
    "- **H0 Alternate Hypothesis**\n",
    " - _Statistical significance exists._\n",
    " - A significant difference in insurance costs exists between smokers and non-smokers."
   ]
  },
  {
   "cell_type": "markdown",
   "id": "aad0d2b9",
   "metadata": {},
   "source": [
    "#### **Select the correct test according to the data type and number of samples**\n"
   ]
  },
  {
   "cell_type": "markdown",
   "id": "9f9ff19a",
   "metadata": {},
   "source": [
    "- **Datatype:**\n",
    " - _Numeric_\n",
    "- **Number of Samples/Groups being compared**\n",
    " - _2_\n",
    "   - _smoker_\n",
    "   - _nonsmoker_\n",
    "- **Correct Test**\n",
    " - _2 Sample T-Test_"
   ]
  },
  {
   "cell_type": "markdown",
   "id": "b3a76224",
   "metadata": {},
   "source": [
    "#### **Test the assumptions of your selected test.**"
   ]
  },
  {
   "cell_type": "markdown",
   "id": "2368f503",
   "metadata": {},
   "source": [
    "- **Assumption - No significant outliers**\n"
   ]
  },
  {
   "cell_type": "code",
   "execution_count": 8,
   "id": "c3047487",
   "metadata": {},
   "outputs": [
    {
     "data": {
      "text/plain": [
       "0"
      ]
     },
     "execution_count": 8,
     "metadata": {},
     "output_type": "execute_result"
    }
   ],
   "source": [
    "smoker_group = smoker_df['charges']\n",
    "smoker_outliers = np.abs(stats.zscore(smoker_group)) > 3\n",
    "smoker_outliers.sum()"
   ]
  },
  {
   "cell_type": "markdown",
   "id": "2b107e0a",
   "metadata": {},
   "source": [
    "- no outliers to remove"
   ]
  },
  {
   "cell_type": "code",
   "execution_count": 9,
   "id": "090d73cf",
   "metadata": {
    "scrolled": true
   },
   "outputs": [
    {
     "data": {
      "text/plain": [
       "24"
      ]
     },
     "execution_count": 9,
     "metadata": {},
     "output_type": "execute_result"
    }
   ],
   "source": [
    "nonsmoker_group = nonsmoker_df['charges']\n",
    "nonsmoker_outliers = np.abs(stats.zscore(nonsmoker_group)) > 3\n",
    "nonsmoker_outliers.sum()"
   ]
  },
  {
   "cell_type": "markdown",
   "id": "c3838f61",
   "metadata": {},
   "source": [
    "- 24 outliers to remove"
   ]
  },
  {
   "cell_type": "code",
   "execution_count": 10,
   "id": "dcfa00d2",
   "metadata": {},
   "outputs": [
    {
     "data": {
      "text/plain": [
       "1064"
      ]
     },
     "execution_count": 10,
     "metadata": {},
     "output_type": "execute_result"
    }
   ],
   "source": [
    "len(nonsmoker_group)"
   ]
  },
  {
   "cell_type": "code",
   "execution_count": 11,
   "id": "5e05f206",
   "metadata": {
    "scrolled": true
   },
   "outputs": [
    {
     "data": {
      "text/plain": [
       "1040"
      ]
     },
     "execution_count": 11,
     "metadata": {},
     "output_type": "execute_result"
    }
   ],
   "source": [
    "nonsmoker_group = nonsmoker_group.loc[~nonsmoker_outliers]\n",
    "len(nonsmoker_group)"
   ]
  },
  {
   "cell_type": "markdown",
   "id": "5b06e037",
   "metadata": {},
   "source": [
    "- **Assumption - Normality**\n"
   ]
  },
  {
   "cell_type": "markdown",
   "id": "c96abd2c",
   "metadata": {},
   "source": [
    "- We have large enough groups that we can safely disregard the assumption of normality."
   ]
  },
  {
   "cell_type": "code",
   "execution_count": 12,
   "id": "6ea357db",
   "metadata": {},
   "outputs": [
    {
     "data": {
      "text/plain": [
       "5.564930630036463e-14"
      ]
     },
     "execution_count": 12,
     "metadata": {},
     "output_type": "execute_result"
    }
   ],
   "source": [
    "result = stats.normaltest(smoker_group)\n",
    "result.pvalue"
   ]
  },
  {
   "cell_type": "code",
   "execution_count": 13,
   "id": "899d2f78",
   "metadata": {},
   "outputs": [
    {
     "data": {
      "text/plain": [
       "2.6945416315543976e-36"
      ]
     },
     "execution_count": 13,
     "metadata": {},
     "output_type": "execute_result"
    }
   ],
   "source": [
    "result = stats.normaltest(nonsmoker_group)\n",
    "result.pvalue"
   ]
  },
  {
   "cell_type": "markdown",
   "id": "783060ea",
   "metadata": {},
   "source": [
    "- **Assumption Equal Variance**"
   ]
  },
  {
   "cell_type": "code",
   "execution_count": 14,
   "id": "d46114ca",
   "metadata": {},
   "outputs": [
    {
     "name": "stdout",
     "output_type": "stream",
     "text": [
      "LeveneResult(statistic=520.7468821724297, pvalue=2.4247238784347824e-97)\n",
      "The groups do NOT have equal variance.\n"
     ]
    }
   ],
   "source": [
    "result = stats.levene(smoker_group, nonsmoker_group)\n",
    "print(result)\n",
    "if result.pvalue < .05:\n",
    "    print(f\"The groups do NOT have equal variance.\")\n",
    "else:\n",
    "    print(f\"The groups DO have equal variance.\")"
   ]
  },
  {
   "cell_type": "markdown",
   "id": "81e8e443",
   "metadata": {},
   "source": [
    "It did not pass the Equal Variance Test:\n",
    "- the 2 Sample T-Test cannot be used.\n",
    "- the Welch's T-Test must be used."
   ]
  },
  {
   "cell_type": "markdown",
   "id": "fae2c288",
   "metadata": {},
   "source": [
    "#### **Execute the selected test, or the alternative test (if you do not meet the assumptions)**"
   ]
  },
  {
   "cell_type": "code",
   "execution_count": 15,
   "id": "556eb9d9",
   "metadata": {},
   "outputs": [
    {
     "name": "stdout",
     "output_type": "stream",
     "text": [
      "Ttest_indResult(statistic=33.732305987092516, pvalue=2.575322662587431e-104)\n"
     ]
    },
    {
     "data": {
      "text/plain": [
       "True"
      ]
     },
     "execution_count": 15,
     "metadata": {},
     "output_type": "execute_result"
    }
   ],
   "source": [
    "result = stats.ttest_ind(smoker_group, nonsmoker_group, equal_var=False)\n",
    "print(result)\n",
    "result.pvalue  < .05"
   ]
  },
  {
   "cell_type": "markdown",
   "id": "63517824",
   "metadata": {},
   "source": [
    "#### **Interpret your p-value and reject or fail to reject your null hypothesis**\n"
   ]
  },
  {
   "cell_type": "markdown",
   "id": "6bad7de7",
   "metadata": {},
   "source": [
    "- The p-value was < .05 for the Welch's T-Test\n",
    "- The null hypothesis is rejected and the alternative is supported that:\n",
    "  - A significant difference in insurance costs exists between smokers and non-smokers."
   ]
  },
  {
   "cell_type": "markdown",
   "id": "c8eca920",
   "metadata": {},
   "source": [
    "#### **Show a supporting visualization that helps display the result**"
   ]
  },
  {
   "cell_type": "code",
   "execution_count": 22,
   "id": "e47e83c0",
   "metadata": {},
   "outputs": [],
   "source": [
    "plot_df = pd.concat([smoker_df, nonsmoker_df])"
   ]
  },
  {
   "cell_type": "code",
   "execution_count": 23,
   "id": "c7efd832",
   "metadata": {},
   "outputs": [
    {
     "data": {
      "text/html": [
       "<div>\n",
       "<style scoped>\n",
       "    .dataframe tbody tr th:only-of-type {\n",
       "        vertical-align: middle;\n",
       "    }\n",
       "\n",
       "    .dataframe tbody tr th {\n",
       "        vertical-align: top;\n",
       "    }\n",
       "\n",
       "    .dataframe thead th {\n",
       "        text-align: right;\n",
       "    }\n",
       "</style>\n",
       "<table border=\"1\" class=\"dataframe\">\n",
       "  <thead>\n",
       "    <tr style=\"text-align: right;\">\n",
       "      <th></th>\n",
       "      <th>smoker</th>\n",
       "      <th>charges</th>\n",
       "    </tr>\n",
       "  </thead>\n",
       "  <tbody>\n",
       "    <tr>\n",
       "      <th>0</th>\n",
       "      <td>yes</td>\n",
       "      <td>16884.9240</td>\n",
       "    </tr>\n",
       "    <tr>\n",
       "      <th>11</th>\n",
       "      <td>yes</td>\n",
       "      <td>27808.7251</td>\n",
       "    </tr>\n",
       "    <tr>\n",
       "      <th>14</th>\n",
       "      <td>yes</td>\n",
       "      <td>39611.7577</td>\n",
       "    </tr>\n",
       "    <tr>\n",
       "      <th>19</th>\n",
       "      <td>yes</td>\n",
       "      <td>36837.4670</td>\n",
       "    </tr>\n",
       "    <tr>\n",
       "      <th>23</th>\n",
       "      <td>yes</td>\n",
       "      <td>37701.8768</td>\n",
       "    </tr>\n",
       "    <tr>\n",
       "      <th>...</th>\n",
       "      <td>...</td>\n",
       "      <td>...</td>\n",
       "    </tr>\n",
       "    <tr>\n",
       "      <th>1332</th>\n",
       "      <td>no</td>\n",
       "      <td>11411.6850</td>\n",
       "    </tr>\n",
       "    <tr>\n",
       "      <th>1333</th>\n",
       "      <td>no</td>\n",
       "      <td>10600.5483</td>\n",
       "    </tr>\n",
       "    <tr>\n",
       "      <th>1334</th>\n",
       "      <td>no</td>\n",
       "      <td>2205.9808</td>\n",
       "    </tr>\n",
       "    <tr>\n",
       "      <th>1335</th>\n",
       "      <td>no</td>\n",
       "      <td>1629.8335</td>\n",
       "    </tr>\n",
       "    <tr>\n",
       "      <th>1336</th>\n",
       "      <td>no</td>\n",
       "      <td>2007.9450</td>\n",
       "    </tr>\n",
       "  </tbody>\n",
       "</table>\n",
       "<p>1338 rows × 2 columns</p>\n",
       "</div>"
      ],
      "text/plain": [
       "     smoker     charges\n",
       "0       yes  16884.9240\n",
       "11      yes  27808.7251\n",
       "14      yes  39611.7577\n",
       "19      yes  36837.4670\n",
       "23      yes  37701.8768\n",
       "...     ...         ...\n",
       "1332     no  11411.6850\n",
       "1333     no  10600.5483\n",
       "1334     no   2205.9808\n",
       "1335     no   1629.8335\n",
       "1336     no   2007.9450\n",
       "\n",
       "[1338 rows x 2 columns]"
      ]
     },
     "execution_count": 23,
     "metadata": {},
     "output_type": "execute_result"
    }
   ],
   "source": [
    "plot_df"
   ]
  },
  {
   "cell_type": "code",
   "execution_count": 24,
   "id": "cfa45b14",
   "metadata": {},
   "outputs": [
    {
     "data": {
      "text/plain": [
       "<matplotlib.axes._subplots.AxesSubplot at 0x1bacc4ea848>"
      ]
     },
     "execution_count": 24,
     "metadata": {},
     "output_type": "execute_result"
    },
    {
     "data": {
      "image/png": "[encoded data removed]",
      "text/plain": [
       "<Figure size 432x288 with 1 Axes>"
      ]
     },
     "metadata": {
      "needs_background": "light"
     },
     "output_type": "display_data"
    }
   ],
   "source": [
    "sns.barplot(data=plot_df, x='smoker', y='charges', ci=68)"
   ]
  },
  {
   "cell_type": "markdown",
   "id": "ec20cb91",
   "metadata": {},
   "source": [
    "### **Q2. Are men more likely to smoke than women?**\n"
   ]
  },
  {
   "cell_type": "markdown",
   "id": "1a36db64",
   "metadata": {},
   "source": [
    "#### **State your Null Hypothesis and Alternative Hypothesis**\n"
   ]
  },
  {
   "cell_type": "markdown",
   "id": "a674ad6b",
   "metadata": {},
   "source": [
    "- **H0 Null Hypothesis**\n",
    " - _No statistical significance exists._\n",
    " - No significant difference in the likelihood of being a smoker exists between men and women\n",
    "\n",
    "\n",
    "- **H0 Alternate Hypothesis**\n",
    " - _Statistical significance exists._\n",
    " - A significant difference in the likelihood of being a smoker exists between men and women."
   ]
  },
  {
   "cell_type": "markdown",
   "id": "fa8c8f6f",
   "metadata": {},
   "source": [
    "#### **Select the correct test according to the data type and number of samples**\n"
   ]
  },
  {
   "cell_type": "markdown",
   "id": "bcbf606d",
   "metadata": {},
   "source": [
    "- **Datatype:**\n",
    " - _Numeric_\n",
    "- **Number of Samples/Groups being compared**\n",
    " - _2_\n",
    "- **Correct Test**\n",
    " - _2 Sample T-Test_"
   ]
  },
  {
   "cell_type": "markdown",
   "id": "df644f44",
   "metadata": {},
   "source": [
    "#### **Test the assumptions of your selected test.**"
   ]
  },
  {
   "cell_type": "markdown",
   "id": "6abea79f",
   "metadata": {},
   "source": [
    "#### **Execute the selected test, or the alternative test (if you do not meet the assumptions)**"
   ]
  },
  {
   "cell_type": "markdown",
   "id": "20abbf6f",
   "metadata": {},
   "source": [
    "#### **Interpret your p-value and reject or fail to reject your null hypothesis**\n"
   ]
  },
  {
   "cell_type": "markdown",
   "id": "747e3ec6",
   "metadata": {},
   "source": [
    "#### **Show a supporting visualization that helps display the result**"
   ]
  },
  {
   "cell_type": "markdown",
   "id": "168e876b",
   "metadata": {},
   "source": [
    "### **Q3. Do different regions have different charges, on average?**"
   ]
  },
  {
   "cell_type": "markdown",
   "id": "2ef37113",
   "metadata": {},
   "source": [
    "#### **State your Null Hypothesis and Alternative Hypothesis**\n"
   ]
  },
  {
   "cell_type": "markdown",
   "id": "dccfa7d4",
   "metadata": {},
   "source": [
    "- **H0 Null Hypothesis**\n",
    " - _No statistical significance exists._\n",
    " - No significant difference in charges exists between regions.\n",
    "\n",
    "\n",
    "- **H0 Alternate Hypothesis**\n",
    " - _Statistical significance exists._\n",
    " - A significant difference in charges exists between regions."
   ]
  },
  {
   "cell_type": "markdown",
   "id": "8ba2f20a",
   "metadata": {},
   "source": [
    "#### **Select the correct test according to the data type and number of samples**\n"
   ]
  },
  {
   "cell_type": "markdown",
   "id": "94ad4fdb",
   "metadata": {},
   "source": [
    "- **Datatype:**\n",
    " - _Numeric_\n",
    "- **Number of Samples/Groups being compared**\n",
    " - _more than 2_\n",
    "- **Correct Test**\n",
    " - _ANOVA and/or Tukey_"
   ]
  },
  {
   "cell_type": "code",
   "execution_count": null,
   "id": "dadae903",
   "metadata": {},
   "outputs": [],
   "source": []
  },
  {
   "cell_type": "markdown",
   "id": "c0289ce8",
   "metadata": {},
   "source": [
    "#### **Test the assumptions of your selected test.**"
   ]
  },
  {
   "cell_type": "markdown",
   "id": "345496a3",
   "metadata": {},
   "source": [
    "#### **Execute the selected test, or the alternative test (if you do not meet the assumptions)**"
   ]
  },
  {
   "cell_type": "markdown",
   "id": "58847ef5",
   "metadata": {},
   "source": [
    "#### **Interpret your p-value and reject or fail to reject your null hypothesis**\n"
   ]
  },
  {
   "cell_type": "markdown",
   "id": "884961b0",
   "metadata": {},
   "source": [
    "#### **Show a supporting visualization that helps display the result**"
   ]
  }
 ],
 "metadata": {
  "kernelspec": {
   "display_name": "Python (dojo-env)",
   "language": "python",
   "name": "dojo-env"
  },
  "language_info": {
   "codemirror_mode": {
    "name": "ipython",
    "version": 3
   },
   "file_extension": ".py",
   "mimetype": "text/x-python",
   "name": "python",
   "nbconvert_exporter": "python",
   "pygments_lexer": "ipython3",
   "version": "3.7.12"
  },
  "toc": {
   "base_numbering": 1,
   "nav_menu": {
    "height": "252px",
    "width": "195px"
   },
   "number_sections": true,
   "sideBar": true,
   "skip_h1_title": true,
   "title_cell": "Table of Contents",
   "title_sidebar": "Contents",
   "toc_cell": false,
   "toc_position": {
    "height": "calc(100% - 180px)",
    "left": "10px",
    "top": "150px",
    "width": "273.188px"
   },
   "toc_section_display": true,
   "toc_window_display": true
  }
 },
 "nbformat": 4,
 "nbformat_minor": 5
}
