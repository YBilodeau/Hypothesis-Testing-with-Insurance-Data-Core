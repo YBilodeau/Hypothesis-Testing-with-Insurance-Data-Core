{
 "cells": [
  {
   "cell_type": "markdown",
   "id": "60e8a854",
   "metadata": {},
   "source": [
    "# **Hypothesis Testing with Insurance Data (Core)**"
   ]
  },
  {
   "cell_type": "markdown",
   "id": "4ff81dc7",
   "metadata": {},
   "source": [
    "- Yvon Bilodeau\n",
    "- May 2022"
   ]
  },
  {
   "cell_type": "markdown",
   "id": "098af2b6",
   "metadata": {},
   "source": [
    "For this assignment, we will be working with the [US Health Insurance Dataset](https://docs.google.com/spreadsheets/d/e/2PACX-1vQBN8DPW2rdiRrY34eEM53HAzakNGSRrw4ogI-j8HyCUrbqTB_z4CeIn2IvjLF-w_6sOe5pIlypJGAA/pub?output=csv) from [Kaggle](https://www.kaggle.com/teertha/ushealthinsurancedataset).\n",
    "\n",
    "We have been asked to use our hypothesis testing skills to answer the following questions:\n",
    "\n",
    "- Q1. Do smokers have higher insurance charges than non-smokers?\n",
    "- Q2. Are men more likely to smoke than women?\n",
    "- Q3. Do different regions have different charges, on average?\n",
    "\n",
    "For each question, make sure to:\n",
    "\n",
    "- State your Null Hypothesis and Alternative Hypothesis\n",
    "- Select the correct test according to the data type and number of samples\n",
    "- Test the assumptions of your selected test.\n",
    "- Execute the selected test, or the alternative test (if you do not meet the assumptions)\n",
    "- Interpret your p-value and reject or fail to reject your null hypothesis \n",
    "- Show a supporting visualization that helps display the result"
   ]
  },
  {
   "cell_type": "markdown",
   "id": "51efa021",
   "metadata": {},
   "source": [
    "## **Import Libraries**"
   ]
  },
  {
   "cell_type": "code",
   "execution_count": 1,
   "id": "07776a56",
   "metadata": {},
   "outputs": [],
   "source": [
    "# Import libraries\n",
    "import numpy as np\n",
    "import pandas as pd\n",
    "import matplotlib.pyplot as plt\n",
    "import seaborn as sns\n",
    "import json\n",
    "from scipy import stats\n",
    "## Post Hoc\n",
    "from statsmodels.stats.multicomp import pairwise_tukeyhsd"
   ]
  },
  {
   "cell_type": "markdown",
   "id": "3ea8bef9",
   "metadata": {},
   "source": [
    "## **Import Data**"
   ]
  },
  {
   "cell_type": "code",
   "execution_count": 2,
   "id": "daa29edc",
   "metadata": {},
   "outputs": [],
   "source": [
    "# Load the dataframe from the csv file\n",
    "df = pd.read_csv('https://docs.google.com/spreadsheets/d/e/2PACX-1vQBN8DPW2rdiRrY34eEM53HAzakNGSRrw4ogI-j8HyCUrbqTB_z4CeIn2IvjLF-w_6sOe5pIlypJGAA/pub?output=csv')"
   ]
  },
  {
   "cell_type": "code",
   "execution_count": 3,
   "id": "5095d2aa",
   "metadata": {},
   "outputs": [
    {
     "data": {
      "text/html": [
       "<div>\n",
       "<style scoped>\n",
       "    .dataframe tbody tr th:only-of-type {\n",
       "        vertical-align: middle;\n",
       "    }\n",
       "\n",
       "    .dataframe tbody tr th {\n",
       "        vertical-align: top;\n",
       "    }\n",
       "\n",
       "    .dataframe thead th {\n",
       "        text-align: right;\n",
       "    }\n",
       "</style>\n",
       "<table border=\"1\" class=\"dataframe\">\n",
       "  <thead>\n",
       "    <tr style=\"text-align: right;\">\n",
       "      <th></th>\n",
       "      <th>age</th>\n",
       "      <th>sex</th>\n",
       "      <th>bmi</th>\n",
       "      <th>children</th>\n",
       "      <th>smoker</th>\n",
       "      <th>region</th>\n",
       "      <th>charges</th>\n",
       "    </tr>\n",
       "  </thead>\n",
       "  <tbody>\n",
       "    <tr>\n",
       "      <th>0</th>\n",
       "      <td>19</td>\n",
       "      <td>female</td>\n",
       "      <td>27.900</td>\n",
       "      <td>0</td>\n",
       "      <td>yes</td>\n",
       "      <td>southwest</td>\n",
       "      <td>16884.92400</td>\n",
       "    </tr>\n",
       "    <tr>\n",
       "      <th>1</th>\n",
       "      <td>18</td>\n",
       "      <td>male</td>\n",
       "      <td>33.770</td>\n",
       "      <td>1</td>\n",
       "      <td>no</td>\n",
       "      <td>southeast</td>\n",
       "      <td>1725.55230</td>\n",
       "    </tr>\n",
       "    <tr>\n",
       "      <th>2</th>\n",
       "      <td>28</td>\n",
       "      <td>male</td>\n",
       "      <td>33.000</td>\n",
       "      <td>3</td>\n",
       "      <td>no</td>\n",
       "      <td>southeast</td>\n",
       "      <td>4449.46200</td>\n",
       "    </tr>\n",
       "    <tr>\n",
       "      <th>3</th>\n",
       "      <td>33</td>\n",
       "      <td>male</td>\n",
       "      <td>22.705</td>\n",
       "      <td>0</td>\n",
       "      <td>no</td>\n",
       "      <td>northwest</td>\n",
       "      <td>21984.47061</td>\n",
       "    </tr>\n",
       "    <tr>\n",
       "      <th>4</th>\n",
       "      <td>32</td>\n",
       "      <td>male</td>\n",
       "      <td>28.880</td>\n",
       "      <td>0</td>\n",
       "      <td>no</td>\n",
       "      <td>northwest</td>\n",
       "      <td>3866.85520</td>\n",
       "    </tr>\n",
       "  </tbody>\n",
       "</table>\n",
       "</div>"
      ],
      "text/plain": [
       "   age     sex     bmi  children smoker     region      charges\n",
       "0   19  female  27.900         0    yes  southwest  16884.92400\n",
       "1   18    male  33.770         1     no  southeast   1725.55230\n",
       "2   28    male  33.000         3     no  southeast   4449.46200\n",
       "3   33    male  22.705         0     no  northwest  21984.47061\n",
       "4   32    male  28.880         0     no  northwest   3866.85520"
      ]
     },
     "execution_count": 3,
     "metadata": {},
     "output_type": "execute_result"
    }
   ],
   "source": [
    "# Display the first (5) rows\n",
    "df.head()"
   ]
  },
  {
   "cell_type": "markdown",
   "id": "4e80e490",
   "metadata": {},
   "source": [
    "## **Questions**"
   ]
  },
  {
   "cell_type": "markdown",
   "id": "5cd5a7fe",
   "metadata": {},
   "source": [
    "### **Q1. Do smokers have higher insurance charges than non-smokers?**"
   ]
  },
  {
   "cell_type": "code",
   "execution_count": 4,
   "id": "7924a220",
   "metadata": {
    "scrolled": true
   },
   "outputs": [
    {
     "data": {
      "text/html": [
       "<div>\n",
       "<style scoped>\n",
       "    .dataframe tbody tr th:only-of-type {\n",
       "        vertical-align: middle;\n",
       "    }\n",
       "\n",
       "    .dataframe tbody tr th {\n",
       "        vertical-align: top;\n",
       "    }\n",
       "\n",
       "    .dataframe thead th {\n",
       "        text-align: right;\n",
       "    }\n",
       "</style>\n",
       "<table border=\"1\" class=\"dataframe\">\n",
       "  <thead>\n",
       "    <tr style=\"text-align: right;\">\n",
       "      <th></th>\n",
       "      <th>smoker</th>\n",
       "      <th>charges</th>\n",
       "    </tr>\n",
       "  </thead>\n",
       "  <tbody>\n",
       "    <tr>\n",
       "      <th>0</th>\n",
       "      <td>yes</td>\n",
       "      <td>16884.9240</td>\n",
       "    </tr>\n",
       "    <tr>\n",
       "      <th>11</th>\n",
       "      <td>yes</td>\n",
       "      <td>27808.7251</td>\n",
       "    </tr>\n",
       "    <tr>\n",
       "      <th>14</th>\n",
       "      <td>yes</td>\n",
       "      <td>39611.7577</td>\n",
       "    </tr>\n",
       "    <tr>\n",
       "      <th>19</th>\n",
       "      <td>yes</td>\n",
       "      <td>36837.4670</td>\n",
       "    </tr>\n",
       "    <tr>\n",
       "      <th>23</th>\n",
       "      <td>yes</td>\n",
       "      <td>37701.8768</td>\n",
       "    </tr>\n",
       "  </tbody>\n",
       "</table>\n",
       "</div>"
      ],
      "text/plain": [
       "   smoker     charges\n",
       "0     yes  16884.9240\n",
       "11    yes  27808.7251\n",
       "14    yes  39611.7577\n",
       "19    yes  36837.4670\n",
       "23    yes  37701.8768"
      ]
     },
     "execution_count": 4,
     "metadata": {},
     "output_type": "execute_result"
    }
   ],
   "source": [
    "smoker_df = df.loc[df.smoker =='yes', ['smoker','charges']].copy()\n",
    "smoker_df.head()"
   ]
  },
  {
   "cell_type": "code",
   "execution_count": 5,
   "id": "8a976921",
   "metadata": {},
   "outputs": [
    {
     "data": {
      "text/plain": [
       "274"
      ]
     },
     "execution_count": 5,
     "metadata": {},
     "output_type": "execute_result"
    }
   ],
   "source": [
    "len(smoker_df)"
   ]
  },
  {
   "cell_type": "code",
   "execution_count": 6,
   "id": "a5c5a23d",
   "metadata": {},
   "outputs": [
    {
     "data": {
      "text/html": [
       "<div>\n",
       "<style scoped>\n",
       "    .dataframe tbody tr th:only-of-type {\n",
       "        vertical-align: middle;\n",
       "    }\n",
       "\n",
       "    .dataframe tbody tr th {\n",
       "        vertical-align: top;\n",
       "    }\n",
       "\n",
       "    .dataframe thead th {\n",
       "        text-align: right;\n",
       "    }\n",
       "</style>\n",
       "<table border=\"1\" class=\"dataframe\">\n",
       "  <thead>\n",
       "    <tr style=\"text-align: right;\">\n",
       "      <th></th>\n",
       "      <th>smoker</th>\n",
       "      <th>charges</th>\n",
       "    </tr>\n",
       "  </thead>\n",
       "  <tbody>\n",
       "    <tr>\n",
       "      <th>1</th>\n",
       "      <td>no</td>\n",
       "      <td>1725.55230</td>\n",
       "    </tr>\n",
       "    <tr>\n",
       "      <th>2</th>\n",
       "      <td>no</td>\n",
       "      <td>4449.46200</td>\n",
       "    </tr>\n",
       "    <tr>\n",
       "      <th>3</th>\n",
       "      <td>no</td>\n",
       "      <td>21984.47061</td>\n",
       "    </tr>\n",
       "    <tr>\n",
       "      <th>4</th>\n",
       "      <td>no</td>\n",
       "      <td>3866.85520</td>\n",
       "    </tr>\n",
       "    <tr>\n",
       "      <th>5</th>\n",
       "      <td>no</td>\n",
       "      <td>3756.62160</td>\n",
       "    </tr>\n",
       "  </tbody>\n",
       "</table>\n",
       "</div>"
      ],
      "text/plain": [
       "  smoker      charges\n",
       "1     no   1725.55230\n",
       "2     no   4449.46200\n",
       "3     no  21984.47061\n",
       "4     no   3866.85520\n",
       "5     no   3756.62160"
      ]
     },
     "execution_count": 6,
     "metadata": {},
     "output_type": "execute_result"
    }
   ],
   "source": [
    "nonsmoker_df = df.loc[df.smoker =='no', ['smoker','charges']].copy()\n",
    "nonsmoker_df.head()"
   ]
  },
  {
   "cell_type": "code",
   "execution_count": 7,
   "id": "e552e56b",
   "metadata": {},
   "outputs": [
    {
     "data": {
      "text/plain": [
       "1064"
      ]
     },
     "execution_count": 7,
     "metadata": {},
     "output_type": "execute_result"
    }
   ],
   "source": [
    "len(nonsmoker_df)"
   ]
  },
  {
   "cell_type": "code",
   "execution_count": 8,
   "id": "bec2cd7d",
   "metadata": {},
   "outputs": [],
   "source": [
    "q1_plot_df = pd.concat([smoker_df, nonsmoker_df], axis=0).copy()"
   ]
  },
  {
   "cell_type": "markdown",
   "id": "804b2511",
   "metadata": {},
   "source": [
    "#### **State your Null Hypothesis and Alternative Hypothesis**\n"
   ]
  },
  {
   "cell_type": "markdown",
   "id": "9e781b52",
   "metadata": {},
   "source": [
    "- **H0 Null Hypothesis** \n",
    " - _No statistical significance exists._\n",
    " - No significant difference in insurance costs exists between smokers and non-smokers.\n",
    "\n",
    "\n",
    "- **HA Alternate Hypothesis**\n",
    " - _A statistical significance exists. The null hypothesis is rejected and the alternative is supported that..._\n",
    " - A significant difference in insurance costs exists between smokers and non-smokers."
   ]
  },
  {
   "cell_type": "code",
   "execution_count": 9,
   "id": "e2ee741a",
   "metadata": {},
   "outputs": [],
   "source": [
    "ho_desc = 'No statistical significance exists. The null hypothesis was not rejected.'\n",
    "ha_desc = 'A statistical significance exists. The null hypothesis is rejected and the alternative is supported that..'"
   ]
  },
  {
   "cell_type": "markdown",
   "id": "250ca14e",
   "metadata": {},
   "source": [
    "#### **Select the correct test according to the data type and number of samples**\n"
   ]
  },
  {
   "cell_type": "markdown",
   "id": "80106b45",
   "metadata": {},
   "source": [
    "- **Datatype:**\n",
    " - _Numeric_\n",
    "- **Number of Samples/Groups being compared**\n",
    " - _2_\n",
    "   - _smoker_\n",
    "   - _nonsmoker_\n",
    "- **Correct Test**\n",
    " - _2 Sample T-Test_"
   ]
  },
  {
   "cell_type": "markdown",
   "id": "e9224265",
   "metadata": {},
   "source": [
    "#### **Test the assumptions of your selected test.**"
   ]
  },
  {
   "cell_type": "markdown",
   "id": "4cebfb04",
   "metadata": {},
   "source": [
    "##### **Assumption - No significant outliers**\n"
   ]
  },
  {
   "cell_type": "code",
   "execution_count": 10,
   "id": "5640fe14",
   "metadata": {},
   "outputs": [
    {
     "data": {
      "text/plain": [
       "0"
      ]
     },
     "execution_count": 10,
     "metadata": {},
     "output_type": "execute_result"
    }
   ],
   "source": [
    "smoker_group = smoker_df['charges']\n",
    "smoker_outliers = np.abs(stats.zscore(smoker_group)) > 3\n",
    "smoker_outliers.sum()"
   ]
  },
  {
   "cell_type": "markdown",
   "id": "6aea49fe",
   "metadata": {},
   "source": [
    "- no outliers to remove"
   ]
  },
  {
   "cell_type": "code",
   "execution_count": 11,
   "id": "77250e0a",
   "metadata": {
    "scrolled": true
   },
   "outputs": [
    {
     "data": {
      "text/plain": [
       "24"
      ]
     },
     "execution_count": 11,
     "metadata": {},
     "output_type": "execute_result"
    }
   ],
   "source": [
    "nonsmoker_group = nonsmoker_df['charges']\n",
    "nonsmoker_outliers = np.abs(stats.zscore(nonsmoker_group)) > 3\n",
    "nonsmoker_outliers.sum()"
   ]
  },
  {
   "cell_type": "markdown",
   "id": "2d721de0",
   "metadata": {},
   "source": [
    "- 24 outliers to remove"
   ]
  },
  {
   "cell_type": "code",
   "execution_count": 12,
   "id": "e2432e41",
   "metadata": {},
   "outputs": [
    {
     "data": {
      "text/plain": [
       "1064"
      ]
     },
     "execution_count": 12,
     "metadata": {},
     "output_type": "execute_result"
    }
   ],
   "source": [
    "len(nonsmoker_group)"
   ]
  },
  {
   "cell_type": "code",
   "execution_count": 13,
   "id": "5dee9495",
   "metadata": {
    "scrolled": true
   },
   "outputs": [
    {
     "data": {
      "text/plain": [
       "1040"
      ]
     },
     "execution_count": 13,
     "metadata": {},
     "output_type": "execute_result"
    }
   ],
   "source": [
    "nonsmoker_group = nonsmoker_group.loc[~nonsmoker_outliers]\n",
    "len(nonsmoker_group)"
   ]
  },
  {
   "cell_type": "markdown",
   "id": "419d1340",
   "metadata": {},
   "source": [
    "##### **Assumption - Normality**\n"
   ]
  },
  {
   "cell_type": "code",
   "execution_count": 14,
   "id": "0a944773",
   "metadata": {
    "scrolled": true
   },
   "outputs": [
    {
     "name": "stdout",
     "output_type": "stream",
     "text": [
      "The p-value for the test was 5.564930630036463e-14\n",
      "It was < the alpha value of 0.05, so\n",
      "A statistical significance exists. The null hypothesis is rejected and the alternative is supported that..\n",
      "The sample does not come from a normal distribution.\n"
     ]
    }
   ],
   "source": [
    "# This function tests the null hypothesis that -\n",
    "h0 = \"The sample comes from a normal distribution.\"\n",
    "ha = \"The sample does not come from a normal distribution.\"\n",
    "group = smoker_group\n",
    "statistic, pvalue = stats.normaltest(group)\n",
    "\n",
    "alpha = .05\n",
    "if pvalue < alpha:\n",
    "    print(f'The p-value for the test was {pvalue}')\n",
    "    print(f'It was < the alpha value of {alpha}, so')\n",
    "    print(ha_desc)\n",
    "    print(ha)\n",
    "else:\n",
    "    print(f'The p-value for the test was {pvalue}')\n",
    "    print(f'It was > the alpha value of {alpha}, so')\n",
    "    print(ho_desc)\n",
    "    print(ho)    "
   ]
  },
  {
   "cell_type": "code",
   "execution_count": 15,
   "id": "6aa31e57",
   "metadata": {
    "scrolled": false
   },
   "outputs": [
    {
     "name": "stdout",
     "output_type": "stream",
     "text": [
      "The p-value for the test was 2.6945416315543976e-36\n",
      "It was < the alpha value of 0.05, so\n",
      "A statistical significance exists. The null hypothesis is rejected and the alternative is supported that..\n",
      "The sample does not come from a normal distribution.\n"
     ]
    }
   ],
   "source": [
    "# This function tests the null hypothesis that -\n",
    "h0 = \"The sample comes from a normal distribution.\"\n",
    "ha = \"The sample does not come from a normal distribution.\"\n",
    "group = nonsmoker_group\n",
    "statistic, pvalue = stats.normaltest(group)\n",
    "\n",
    "alpha = .05\n",
    "if pvalue < alpha:\n",
    "    print(f'The p-value for the test was {pvalue}')\n",
    "    print(f'It was < the alpha value of {alpha}, so')\n",
    "    print(ha_desc)\n",
    "    print(ha)\n",
    "else:\n",
    "    print(f'The p-value for the test was {pvalue}')\n",
    "    print(f'It was > the alpha value of {alpha}, so')\n",
    "    print(ho_desc)\n",
    "    print(ho)  "
   ]
  },
  {
   "cell_type": "code",
   "execution_count": 16,
   "id": "63d94465",
   "metadata": {},
   "outputs": [
    {
     "data": {
      "text/plain": [
       "274"
      ]
     },
     "execution_count": 16,
     "metadata": {},
     "output_type": "execute_result"
    }
   ],
   "source": [
    "len(smoker_group)"
   ]
  },
  {
   "cell_type": "code",
   "execution_count": 17,
   "id": "4c54198d",
   "metadata": {},
   "outputs": [
    {
     "data": {
      "text/plain": [
       "1040"
      ]
     },
     "execution_count": 17,
     "metadata": {},
     "output_type": "execute_result"
    }
   ],
   "source": [
    "len(nonsmoker_group)"
   ]
  },
  {
   "cell_type": "markdown",
   "id": "5ab57963",
   "metadata": {},
   "source": [
    "- We have large enough groups that we can safely disregard the assumption of normality."
   ]
  },
  {
   "cell_type": "markdown",
   "id": "aec6ca23",
   "metadata": {},
   "source": [
    "##### **Assumption Equal Variance**"
   ]
  },
  {
   "cell_type": "code",
   "execution_count": 18,
   "id": "0f2795f9",
   "metadata": {},
   "outputs": [
    {
     "name": "stdout",
     "output_type": "stream",
     "text": [
      "The p-value for the test was 2.4247238784347824e-97\n",
      "It was < the alpha value of 0.05, so\n",
      "A statistical significance exists. The null hypothesis is rejected and the alternative is supported that..\n",
      "All input samples are not from populations with equal variances.\n"
     ]
    }
   ],
   "source": [
    "# This function tests the null hypothesis that -\n",
    "ho = \"All input samples are from populations with equal variances.\"\n",
    "ha = \"All input samples are not from populations with equal variances.\"\n",
    "alpha = .05\n",
    "statistic, pvalue = stats.levene(smoker_group, nonsmoker_group)\n",
    "\n",
    "alpha = .05\n",
    "if pvalue < alpha:\n",
    "    print(f'The p-value for the test was {pvalue}')\n",
    "    print(f'It was < the alpha value of {alpha}, so')\n",
    "    print(ha_desc)\n",
    "    print(ha)\n",
    "else:\n",
    "    print(f'The p-value for the test was {pvalue}')\n",
    "    print(f'It was > the alpha value of {alpha}, so')\n",
    "    print(ho_desc)\n",
    "    print(ho)      "
   ]
  },
  {
   "cell_type": "markdown",
   "id": "adb2e4a7",
   "metadata": {},
   "source": [
    "It did not pass the Equal Variance Test:\n",
    "- the 2 Sample T-Test cannot be used.\n",
    "- the Welch's T-Test must be used."
   ]
  },
  {
   "cell_type": "markdown",
   "id": "864a0511",
   "metadata": {},
   "source": [
    "#### **Execute the selected test, or the alternative test (if you do not meet the assumptions) and**\n",
    "**Interpret your p-value and reject or fail to reject your null hypothesis**"
   ]
  },
  {
   "cell_type": "code",
   "execution_count": 19,
   "id": "a6adab3d",
   "metadata": {},
   "outputs": [],
   "source": [
    "ho = 'No significant difference in insurance costs exists between smokers and non-smokers.'\n",
    "ha = 'A significant difference in insurance costs exists between smokers and non-smokers.'"
   ]
  },
  {
   "cell_type": "code",
   "execution_count": 20,
   "id": "42cac7d7",
   "metadata": {
    "scrolled": true
   },
   "outputs": [
    {
     "name": "stdout",
     "output_type": "stream",
     "text": [
      "The p-value for the test was 2.575322662587431e-104\n",
      "It was < the alpha value of 0.05, so\n",
      "A statistical significance exists. The null hypothesis is rejected and the alternative is supported that..\n",
      "A significant difference in insurance costs exists between smokers and non-smokers.\n"
     ]
    }
   ],
   "source": [
    "statistic, pvalue = stats.ttest_ind(smoker_group, nonsmoker_group, equal_var=False) #double check equal_var=True/False\n",
    "\n",
    "alpha = .05\n",
    "if pvalue < alpha:\n",
    "    print(f'The p-value for the test was {pvalue}')\n",
    "    print(f'It was < the alpha value of {alpha}, so')\n",
    "    print(ha_desc)\n",
    "    print(ha)\n",
    "else:\n",
    "    print(f'The p-value for the test was {pvalue}')\n",
    "    print(f'It was > the alpha value of {alpha}, so')\n",
    "    print(ho_desc)\n",
    "    print(ho)"
   ]
  },
  {
   "cell_type": "markdown",
   "id": "a1b8d847",
   "metadata": {},
   "source": [
    "#### **Show a supporting visualization that helps display the result**"
   ]
  },
  {
   "cell_type": "code",
   "execution_count": 21,
   "id": "d4686082",
   "metadata": {},
   "outputs": [
    {
     "data": {
      "text/html": [
       "<div>\n",
       "<style scoped>\n",
       "    .dataframe tbody tr th:only-of-type {\n",
       "        vertical-align: middle;\n",
       "    }\n",
       "\n",
       "    .dataframe tbody tr th {\n",
       "        vertical-align: top;\n",
       "    }\n",
       "\n",
       "    .dataframe thead th {\n",
       "        text-align: right;\n",
       "    }\n",
       "</style>\n",
       "<table border=\"1\" class=\"dataframe\">\n",
       "  <thead>\n",
       "    <tr style=\"text-align: right;\">\n",
       "      <th></th>\n",
       "      <th>smoker</th>\n",
       "      <th>charges</th>\n",
       "    </tr>\n",
       "  </thead>\n",
       "  <tbody>\n",
       "    <tr>\n",
       "      <th>0</th>\n",
       "      <td>yes</td>\n",
       "      <td>16884.9240</td>\n",
       "    </tr>\n",
       "    <tr>\n",
       "      <th>11</th>\n",
       "      <td>yes</td>\n",
       "      <td>27808.7251</td>\n",
       "    </tr>\n",
       "    <tr>\n",
       "      <th>14</th>\n",
       "      <td>yes</td>\n",
       "      <td>39611.7577</td>\n",
       "    </tr>\n",
       "    <tr>\n",
       "      <th>19</th>\n",
       "      <td>yes</td>\n",
       "      <td>36837.4670</td>\n",
       "    </tr>\n",
       "    <tr>\n",
       "      <th>23</th>\n",
       "      <td>yes</td>\n",
       "      <td>37701.8768</td>\n",
       "    </tr>\n",
       "    <tr>\n",
       "      <th>...</th>\n",
       "      <td>...</td>\n",
       "      <td>...</td>\n",
       "    </tr>\n",
       "    <tr>\n",
       "      <th>1332</th>\n",
       "      <td>no</td>\n",
       "      <td>11411.6850</td>\n",
       "    </tr>\n",
       "    <tr>\n",
       "      <th>1333</th>\n",
       "      <td>no</td>\n",
       "      <td>10600.5483</td>\n",
       "    </tr>\n",
       "    <tr>\n",
       "      <th>1334</th>\n",
       "      <td>no</td>\n",
       "      <td>2205.9808</td>\n",
       "    </tr>\n",
       "    <tr>\n",
       "      <th>1335</th>\n",
       "      <td>no</td>\n",
       "      <td>1629.8335</td>\n",
       "    </tr>\n",
       "    <tr>\n",
       "      <th>1336</th>\n",
       "      <td>no</td>\n",
       "      <td>2007.9450</td>\n",
       "    </tr>\n",
       "  </tbody>\n",
       "</table>\n",
       "<p>1338 rows × 2 columns</p>\n",
       "</div>"
      ],
      "text/plain": [
       "     smoker     charges\n",
       "0       yes  16884.9240\n",
       "11      yes  27808.7251\n",
       "14      yes  39611.7577\n",
       "19      yes  36837.4670\n",
       "23      yes  37701.8768\n",
       "...     ...         ...\n",
       "1332     no  11411.6850\n",
       "1333     no  10600.5483\n",
       "1334     no   2205.9808\n",
       "1335     no   1629.8335\n",
       "1336     no   2007.9450\n",
       "\n",
       "[1338 rows x 2 columns]"
      ]
     },
     "execution_count": 21,
     "metadata": {},
     "output_type": "execute_result"
    }
   ],
   "source": [
    "q1_plot_df"
   ]
  },
  {
   "cell_type": "code",
   "execution_count": 22,
   "id": "29f5cbb6",
   "metadata": {},
   "outputs": [
    {
     "data": {
      "image/png": "[encoded data removed]",
      "text/plain": [
       "<Figure size 432x288 with 1 Axes>"
      ]
     },
     "metadata": {
      "needs_background": "light"
     },
     "output_type": "display_data"
    }
   ],
   "source": [
    "sns.barplot(data=q1_plot_df, x='smoker', y='charges', ci=68.2);"
   ]
  },
  {
   "cell_type": "markdown",
   "id": "27f0cc9c",
   "metadata": {},
   "source": [
    "### **Q2. Are men more likely to smoke than women?**\n"
   ]
  },
  {
   "cell_type": "code",
   "execution_count": 23,
   "id": "0c02b38b",
   "metadata": {},
   "outputs": [
    {
     "data": {
      "text/html": [
       "<div>\n",
       "<style scoped>\n",
       "    .dataframe tbody tr th:only-of-type {\n",
       "        vertical-align: middle;\n",
       "    }\n",
       "\n",
       "    .dataframe tbody tr th {\n",
       "        vertical-align: top;\n",
       "    }\n",
       "\n",
       "    .dataframe thead th {\n",
       "        text-align: right;\n",
       "    }\n",
       "</style>\n",
       "<table border=\"1\" class=\"dataframe\">\n",
       "  <thead>\n",
       "    <tr style=\"text-align: right;\">\n",
       "      <th></th>\n",
       "      <th>age</th>\n",
       "      <th>sex</th>\n",
       "      <th>bmi</th>\n",
       "      <th>children</th>\n",
       "      <th>smoker</th>\n",
       "      <th>region</th>\n",
       "      <th>charges</th>\n",
       "    </tr>\n",
       "  </thead>\n",
       "  <tbody>\n",
       "    <tr>\n",
       "      <th>0</th>\n",
       "      <td>19</td>\n",
       "      <td>female</td>\n",
       "      <td>27.900</td>\n",
       "      <td>0</td>\n",
       "      <td>yes</td>\n",
       "      <td>southwest</td>\n",
       "      <td>16884.92400</td>\n",
       "    </tr>\n",
       "    <tr>\n",
       "      <th>1</th>\n",
       "      <td>18</td>\n",
       "      <td>male</td>\n",
       "      <td>33.770</td>\n",
       "      <td>1</td>\n",
       "      <td>no</td>\n",
       "      <td>southeast</td>\n",
       "      <td>1725.55230</td>\n",
       "    </tr>\n",
       "    <tr>\n",
       "      <th>2</th>\n",
       "      <td>28</td>\n",
       "      <td>male</td>\n",
       "      <td>33.000</td>\n",
       "      <td>3</td>\n",
       "      <td>no</td>\n",
       "      <td>southeast</td>\n",
       "      <td>4449.46200</td>\n",
       "    </tr>\n",
       "    <tr>\n",
       "      <th>3</th>\n",
       "      <td>33</td>\n",
       "      <td>male</td>\n",
       "      <td>22.705</td>\n",
       "      <td>0</td>\n",
       "      <td>no</td>\n",
       "      <td>northwest</td>\n",
       "      <td>21984.47061</td>\n",
       "    </tr>\n",
       "    <tr>\n",
       "      <th>4</th>\n",
       "      <td>32</td>\n",
       "      <td>male</td>\n",
       "      <td>28.880</td>\n",
       "      <td>0</td>\n",
       "      <td>no</td>\n",
       "      <td>northwest</td>\n",
       "      <td>3866.85520</td>\n",
       "    </tr>\n",
       "  </tbody>\n",
       "</table>\n",
       "</div>"
      ],
      "text/plain": [
       "   age     sex     bmi  children smoker     region      charges\n",
       "0   19  female  27.900         0    yes  southwest  16884.92400\n",
       "1   18    male  33.770         1     no  southeast   1725.55230\n",
       "2   28    male  33.000         3     no  southeast   4449.46200\n",
       "3   33    male  22.705         0     no  northwest  21984.47061\n",
       "4   32    male  28.880         0     no  northwest   3866.85520"
      ]
     },
     "execution_count": 23,
     "metadata": {},
     "output_type": "execute_result"
    }
   ],
   "source": [
    "# Display the first (5) rows\n",
    "df.head()"
   ]
  },
  {
   "cell_type": "code",
   "execution_count": 24,
   "id": "2ca010aa",
   "metadata": {
    "scrolled": true
   },
   "outputs": [
    {
     "data": {
      "text/html": [
       "<div>\n",
       "<style scoped>\n",
       "    .dataframe tbody tr th:only-of-type {\n",
       "        vertical-align: middle;\n",
       "    }\n",
       "\n",
       "    .dataframe tbody tr th {\n",
       "        vertical-align: top;\n",
       "    }\n",
       "\n",
       "    .dataframe thead th {\n",
       "        text-align: right;\n",
       "    }\n",
       "</style>\n",
       "<table border=\"1\" class=\"dataframe\">\n",
       "  <thead>\n",
       "    <tr style=\"text-align: right;\">\n",
       "      <th></th>\n",
       "      <th>sex</th>\n",
       "      <th>smoker</th>\n",
       "    </tr>\n",
       "  </thead>\n",
       "  <tbody>\n",
       "    <tr>\n",
       "      <th>1</th>\n",
       "      <td>male</td>\n",
       "      <td>no</td>\n",
       "    </tr>\n",
       "    <tr>\n",
       "      <th>2</th>\n",
       "      <td>male</td>\n",
       "      <td>no</td>\n",
       "    </tr>\n",
       "    <tr>\n",
       "      <th>3</th>\n",
       "      <td>male</td>\n",
       "      <td>no</td>\n",
       "    </tr>\n",
       "    <tr>\n",
       "      <th>4</th>\n",
       "      <td>male</td>\n",
       "      <td>no</td>\n",
       "    </tr>\n",
       "    <tr>\n",
       "      <th>8</th>\n",
       "      <td>male</td>\n",
       "      <td>no</td>\n",
       "    </tr>\n",
       "  </tbody>\n",
       "</table>\n",
       "</div>"
      ],
      "text/plain": [
       "    sex smoker\n",
       "1  male     no\n",
       "2  male     no\n",
       "3  male     no\n",
       "4  male     no\n",
       "8  male     no"
      ]
     },
     "execution_count": 24,
     "metadata": {},
     "output_type": "execute_result"
    }
   ],
   "source": [
    "men_df = df.loc[df.sex =='male', ['sex','smoker']].copy()\n",
    "men_df.head()"
   ]
  },
  {
   "cell_type": "code",
   "execution_count": 25,
   "id": "772f0f08",
   "metadata": {},
   "outputs": [
    {
     "data": {
      "text/plain": [
       "676"
      ]
     },
     "execution_count": 25,
     "metadata": {},
     "output_type": "execute_result"
    }
   ],
   "source": [
    "len(men_df)"
   ]
  },
  {
   "cell_type": "code",
   "execution_count": 26,
   "id": "07e3c960",
   "metadata": {
    "scrolled": true
   },
   "outputs": [
    {
     "data": {
      "text/html": [
       "<div>\n",
       "<style scoped>\n",
       "    .dataframe tbody tr th:only-of-type {\n",
       "        vertical-align: middle;\n",
       "    }\n",
       "\n",
       "    .dataframe tbody tr th {\n",
       "        vertical-align: top;\n",
       "    }\n",
       "\n",
       "    .dataframe thead th {\n",
       "        text-align: right;\n",
       "    }\n",
       "</style>\n",
       "<table border=\"1\" class=\"dataframe\">\n",
       "  <thead>\n",
       "    <tr style=\"text-align: right;\">\n",
       "      <th></th>\n",
       "      <th>sex</th>\n",
       "      <th>smoker</th>\n",
       "    </tr>\n",
       "  </thead>\n",
       "  <tbody>\n",
       "    <tr>\n",
       "      <th>0</th>\n",
       "      <td>female</td>\n",
       "      <td>yes</td>\n",
       "    </tr>\n",
       "    <tr>\n",
       "      <th>5</th>\n",
       "      <td>female</td>\n",
       "      <td>no</td>\n",
       "    </tr>\n",
       "    <tr>\n",
       "      <th>6</th>\n",
       "      <td>female</td>\n",
       "      <td>no</td>\n",
       "    </tr>\n",
       "    <tr>\n",
       "      <th>7</th>\n",
       "      <td>female</td>\n",
       "      <td>no</td>\n",
       "    </tr>\n",
       "    <tr>\n",
       "      <th>9</th>\n",
       "      <td>female</td>\n",
       "      <td>no</td>\n",
       "    </tr>\n",
       "  </tbody>\n",
       "</table>\n",
       "</div>"
      ],
      "text/plain": [
       "      sex smoker\n",
       "0  female    yes\n",
       "5  female     no\n",
       "6  female     no\n",
       "7  female     no\n",
       "9  female     no"
      ]
     },
     "execution_count": 26,
     "metadata": {},
     "output_type": "execute_result"
    }
   ],
   "source": [
    "women_df = df.loc[df.sex =='female', ['sex','smoker']].copy()\n",
    "women_df.head()"
   ]
  },
  {
   "cell_type": "code",
   "execution_count": 27,
   "id": "0e024904",
   "metadata": {},
   "outputs": [
    {
     "data": {
      "text/plain": [
       "662"
      ]
     },
     "execution_count": 27,
     "metadata": {},
     "output_type": "execute_result"
    }
   ],
   "source": [
    "len(women_df)"
   ]
  },
  {
   "cell_type": "code",
   "execution_count": 28,
   "id": "dc18c1ef",
   "metadata": {},
   "outputs": [],
   "source": [
    "q2_plot_df = pd.concat([men_df, women_df], axis=0).copy()"
   ]
  },
  {
   "cell_type": "markdown",
   "id": "be5715e5",
   "metadata": {},
   "source": [
    "#### **State your Null Hypothesis and Alternative Hypothesis**\n"
   ]
  },
  {
   "cell_type": "markdown",
   "id": "cf77ab16",
   "metadata": {},
   "source": [
    "- **H0 Null Hypothesis**\n",
    " - _No statistical significance exists._\n",
    " - No significant difference exists in the likelihood of men than women to be smokers.\n",
    "\n",
    "\n",
    "- **HA Alternate Hypothesis**\n",
    " - _Statistical significance exists._\n",
    " - A significant difference exists in the likelihood of men than women to be smokers."
   ]
  },
  {
   "cell_type": "markdown",
   "id": "1afd7521",
   "metadata": {},
   "source": [
    "#### **Select the correct test according to the data type and number of samples**\n"
   ]
  },
  {
   "cell_type": "markdown",
   "id": "63d2fa38",
   "metadata": {},
   "source": [
    "- **Datatype:**\n",
    " - _Categorical_\n",
    "- **Number of Samples/Groups being compared**\n",
    " - _2_\n",
    "- **Correct Test**\n",
    " - _Chi-Square_"
   ]
  },
  {
   "cell_type": "markdown",
   "id": "fab4caca",
   "metadata": {},
   "source": [
    "#### **Test the assumptions of your selected test.**"
   ]
  },
  {
   "cell_type": "markdown",
   "id": "790b99aa",
   "metadata": {},
   "source": [
    "##### **There are two categorical variables**\n"
   ]
  },
  {
   "cell_type": "markdown",
   "id": "4200f1c2",
   "metadata": {},
   "source": [
    "  - Men\n",
    "  - Women\n"
   ]
  },
  {
   "cell_type": "markdown",
   "id": "870a0781",
   "metadata": {},
   "source": [
    "##### **The outcomes are independent**"
   ]
  },
  {
   "cell_type": "markdown",
   "id": "48b430bc",
   "metadata": {},
   "source": [
    "- Confirmed, the outcomes are independent."
   ]
  },
  {
   "cell_type": "markdown",
   "id": "ccbc3d9c",
   "metadata": {},
   "source": [
    "#### **Execute the selected test, or the alternative test (if you do not meet the assumptions) and**\n",
    "**Interpret your p-value and reject or fail to reject your null hypothesis**"
   ]
  },
  {
   "cell_type": "code",
   "execution_count": 29,
   "id": "92fb9d49",
   "metadata": {
    "scrolled": true
   },
   "outputs": [
    {
     "data": {
      "text/html": [
       "<div>\n",
       "<style scoped>\n",
       "    .dataframe tbody tr th:only-of-type {\n",
       "        vertical-align: middle;\n",
       "    }\n",
       "\n",
       "    .dataframe tbody tr th {\n",
       "        vertical-align: top;\n",
       "    }\n",
       "\n",
       "    .dataframe thead th {\n",
       "        text-align: right;\n",
       "    }\n",
       "</style>\n",
       "<table border=\"1\" class=\"dataframe\">\n",
       "  <thead>\n",
       "    <tr style=\"text-align: right;\">\n",
       "      <th>smoker</th>\n",
       "      <th>no</th>\n",
       "      <th>yes</th>\n",
       "    </tr>\n",
       "    <tr>\n",
       "      <th>sex</th>\n",
       "      <th></th>\n",
       "      <th></th>\n",
       "    </tr>\n",
       "  </thead>\n",
       "  <tbody>\n",
       "    <tr>\n",
       "      <th>female</th>\n",
       "      <td>547</td>\n",
       "      <td>115</td>\n",
       "    </tr>\n",
       "    <tr>\n",
       "      <th>male</th>\n",
       "      <td>517</td>\n",
       "      <td>159</td>\n",
       "    </tr>\n",
       "  </tbody>\n",
       "</table>\n",
       "</div>"
      ],
      "text/plain": [
       "smoker   no  yes\n",
       "sex             \n",
       "female  547  115\n",
       "male    517  159"
      ]
     },
     "execution_count": 29,
     "metadata": {},
     "output_type": "execute_result"
    }
   ],
   "source": [
    "# calculate the contingency table with pd.cross-tab\n",
    "table = pd.crosstab(df['sex'], df['smoker'])\n",
    "table"
   ]
  },
  {
   "cell_type": "code",
   "execution_count": 30,
   "id": "f3f83e6a",
   "metadata": {},
   "outputs": [],
   "source": [
    "ho = 'No significant difference exists in the likelihood of men than women to be smokers.'\n",
    "ha = 'A significant difference exists in the likelihood of men than women to be smokers.'"
   ]
  },
  {
   "cell_type": "code",
   "execution_count": 31,
   "id": "f11a7d26",
   "metadata": {},
   "outputs": [],
   "source": [
    "# Run the Test and Save the Output\n",
    "result = stats.chi2_contingency(table)\n",
    "chi2, pvalue, deg_free, expected_vals = result # this labels the results"
   ]
  },
  {
   "cell_type": "code",
   "execution_count": 32,
   "id": "55a50026",
   "metadata": {},
   "outputs": [
    {
     "name": "stdout",
     "output_type": "stream",
     "text": [
      "The p-value for the test was 0.006548143503580696\n",
      "It was < the alpha value of 0.05, so \n",
      "\n",
      "A statistical significance exists. The null hypothesis is rejected and the alternative is supported that..\n",
      "A significant difference exists in the likelihood of men than women to be smokers.\n"
     ]
    }
   ],
   "source": [
    "if pvalue < alpha:\n",
    "    print(f'The p-value for the test was {pvalue}')\n",
    "    print(f'It was < the alpha value of {alpha}, so \\n')\n",
    "    print(ha_desc)\n",
    "    print(ha)\n",
    "else:\n",
    "    print(f'The p-value for the test was {pvalue}')\n",
    "    print(f'It was > the alpha value of {alpha}, so \\n')\n",
    "    print(ho_desc)\n",
    "    print(ho)"
   ]
  },
  {
   "cell_type": "markdown",
   "id": "179326c6",
   "metadata": {},
   "source": [
    "#### **Show a supporting visualization that helps display the result**"
   ]
  },
  {
   "cell_type": "code",
   "execution_count": 33,
   "id": "06ccf499",
   "metadata": {
    "scrolled": false
   },
   "outputs": [
    {
     "data": {
      "text/html": [
       "<div>\n",
       "<style scoped>\n",
       "    .dataframe tbody tr th:only-of-type {\n",
       "        vertical-align: middle;\n",
       "    }\n",
       "\n",
       "    .dataframe tbody tr th {\n",
       "        vertical-align: top;\n",
       "    }\n",
       "\n",
       "    .dataframe thead th {\n",
       "        text-align: right;\n",
       "    }\n",
       "</style>\n",
       "<table border=\"1\" class=\"dataframe\">\n",
       "  <thead>\n",
       "    <tr style=\"text-align: right;\">\n",
       "      <th></th>\n",
       "      <th>sex</th>\n",
       "      <th>smoker</th>\n",
       "    </tr>\n",
       "  </thead>\n",
       "  <tbody>\n",
       "    <tr>\n",
       "      <th>1</th>\n",
       "      <td>male</td>\n",
       "      <td>no</td>\n",
       "    </tr>\n",
       "    <tr>\n",
       "      <th>2</th>\n",
       "      <td>male</td>\n",
       "      <td>no</td>\n",
       "    </tr>\n",
       "    <tr>\n",
       "      <th>3</th>\n",
       "      <td>male</td>\n",
       "      <td>no</td>\n",
       "    </tr>\n",
       "    <tr>\n",
       "      <th>4</th>\n",
       "      <td>male</td>\n",
       "      <td>no</td>\n",
       "    </tr>\n",
       "    <tr>\n",
       "      <th>8</th>\n",
       "      <td>male</td>\n",
       "      <td>no</td>\n",
       "    </tr>\n",
       "    <tr>\n",
       "      <th>...</th>\n",
       "      <td>...</td>\n",
       "      <td>...</td>\n",
       "    </tr>\n",
       "    <tr>\n",
       "      <th>1332</th>\n",
       "      <td>female</td>\n",
       "      <td>no</td>\n",
       "    </tr>\n",
       "    <tr>\n",
       "      <th>1334</th>\n",
       "      <td>female</td>\n",
       "      <td>no</td>\n",
       "    </tr>\n",
       "    <tr>\n",
       "      <th>1335</th>\n",
       "      <td>female</td>\n",
       "      <td>no</td>\n",
       "    </tr>\n",
       "    <tr>\n",
       "      <th>1336</th>\n",
       "      <td>female</td>\n",
       "      <td>no</td>\n",
       "    </tr>\n",
       "    <tr>\n",
       "      <th>1337</th>\n",
       "      <td>female</td>\n",
       "      <td>yes</td>\n",
       "    </tr>\n",
       "  </tbody>\n",
       "</table>\n",
       "<p>1338 rows × 2 columns</p>\n",
       "</div>"
      ],
      "text/plain": [
       "         sex smoker\n",
       "1       male     no\n",
       "2       male     no\n",
       "3       male     no\n",
       "4       male     no\n",
       "8       male     no\n",
       "...      ...    ...\n",
       "1332  female     no\n",
       "1334  female     no\n",
       "1335  female     no\n",
       "1336  female     no\n",
       "1337  female    yes\n",
       "\n",
       "[1338 rows x 2 columns]"
      ]
     },
     "execution_count": 33,
     "metadata": {},
     "output_type": "execute_result"
    }
   ],
   "source": [
    "q2_plot_df"
   ]
  },
  {
   "cell_type": "code",
   "execution_count": 34,
   "id": "7c1cb2c1",
   "metadata": {},
   "outputs": [],
   "source": [
    "grouped = q2_plot_df.groupby(['sex'], sort=False)\n",
    "smoker_counts = grouped['smoker'].value_counts(normalize=True, sort=False)\n",
    "smoker_data = [{'smoker': smoker, 'sex': sex, 'percentage': percentage*100} for \n",
    "    (smoker, sex), percentage in dict(smoker_counts).items()]\n",
    "smoker_df = pd.DataFrame(smoker_data)"
   ]
  },
  {
   "cell_type": "code",
   "execution_count": 35,
   "id": "b8b2d7c5",
   "metadata": {},
   "outputs": [
    {
     "data": {
      "text/html": [
       "<div>\n",
       "<style scoped>\n",
       "    .dataframe tbody tr th:only-of-type {\n",
       "        vertical-align: middle;\n",
       "    }\n",
       "\n",
       "    .dataframe tbody tr th {\n",
       "        vertical-align: top;\n",
       "    }\n",
       "\n",
       "    .dataframe thead th {\n",
       "        text-align: right;\n",
       "    }\n",
       "</style>\n",
       "<table border=\"1\" class=\"dataframe\">\n",
       "  <thead>\n",
       "    <tr style=\"text-align: right;\">\n",
       "      <th></th>\n",
       "      <th>smoker</th>\n",
       "      <th>sex</th>\n",
       "      <th>percentage</th>\n",
       "    </tr>\n",
       "  </thead>\n",
       "  <tbody>\n",
       "    <tr>\n",
       "      <th>0</th>\n",
       "      <td>male</td>\n",
       "      <td>no</td>\n",
       "      <td>76.479290</td>\n",
       "    </tr>\n",
       "    <tr>\n",
       "      <th>1</th>\n",
       "      <td>male</td>\n",
       "      <td>yes</td>\n",
       "      <td>23.520710</td>\n",
       "    </tr>\n",
       "    <tr>\n",
       "      <th>2</th>\n",
       "      <td>female</td>\n",
       "      <td>no</td>\n",
       "      <td>82.628399</td>\n",
       "    </tr>\n",
       "    <tr>\n",
       "      <th>3</th>\n",
       "      <td>female</td>\n",
       "      <td>yes</td>\n",
       "      <td>17.371601</td>\n",
       "    </tr>\n",
       "  </tbody>\n",
       "</table>\n",
       "</div>"
      ],
      "text/plain": [
       "   smoker  sex  percentage\n",
       "0    male   no   76.479290\n",
       "1    male  yes   23.520710\n",
       "2  female   no   82.628399\n",
       "3  female  yes   17.371601"
      ]
     },
     "execution_count": 35,
     "metadata": {},
     "output_type": "execute_result"
    }
   ],
   "source": [
    "smoker_df"
   ]
  },
  {
   "cell_type": "code",
   "execution_count": 36,
   "id": "d1efee38",
   "metadata": {
    "scrolled": true
   },
   "outputs": [
    {
     "data": {
      "image/png": "[encoded data removed]",
      "text/plain": [
       "<Figure size 432x288 with 1 Axes>"
      ]
     },
     "metadata": {
      "needs_background": "light"
     },
     "output_type": "display_data"
    }
   ],
   "source": [
    "p = sns.barplot(x=\"smoker\", y=\"percentage\", hue=\"sex\", data=smoker_df)"
   ]
  },
  {
   "cell_type": "code",
   "execution_count": null,
   "id": "1b9962a6",
   "metadata": {},
   "outputs": [],
   "source": []
  },
  {
   "cell_type": "markdown",
   "id": "bcd6ec4f",
   "metadata": {},
   "source": [
    "### **Q3. Do different regions have different charges, on average?**"
   ]
  },
  {
   "cell_type": "markdown",
   "id": "11dc20a1",
   "metadata": {},
   "source": [
    "#### **State your Null Hypothesis and Alternative Hypothesis**\n"
   ]
  },
  {
   "cell_type": "markdown",
   "id": "5c06edce",
   "metadata": {},
   "source": [
    "- **H0 Null Hypothesis**\n",
    " - _No statistical significance exists._\n",
    " - No significant difference in charges exists between regions.\n",
    "\n",
    "\n",
    "- **H1 Alternate Hypothesis**\n",
    " - _Statistical significance exists._\n",
    " - A significant difference in charges exists between regions."
   ]
  },
  {
   "cell_type": "markdown",
   "id": "40b4c40a",
   "metadata": {},
   "source": [
    "#### **Select the correct test according to the data type and number of samples**\n"
   ]
  },
  {
   "cell_type": "markdown",
   "id": "6dc8d80a",
   "metadata": {},
   "source": [
    "- **Datatype:**\n",
    " - _Numeric_\n",
    "- **Number of Samples/Groups being compared**\n",
    " - _more than 2_\n",
    "- **Correct Test**\n",
    " - if parametric: \n",
    "   - _ANOVA and/or Tukey_\n",
    " - if nonparametric: \n",
    "   - _Kruskal-Wallis_"
   ]
  },
  {
   "cell_type": "markdown",
   "id": "d96ed11c",
   "metadata": {},
   "source": [
    "#### **Test the assumptions of your selected test.**"
   ]
  },
  {
   "cell_type": "markdown",
   "id": "b672d4f9",
   "metadata": {},
   "source": [
    "##### **Assumption - No significant outliers**"
   ]
  },
  {
   "cell_type": "code",
   "execution_count": 37,
   "id": "db302f41",
   "metadata": {},
   "outputs": [
    {
     "data": {
      "text/plain": [
       "dict_keys(['southwest', 'southeast', 'northwest', 'northeast'])"
      ]
     },
     "execution_count": 37,
     "metadata": {},
     "output_type": "execute_result"
    }
   ],
   "source": [
    "groups = {}\n",
    "for region in df['region'].unique():\n",
    "    temp_df = df.loc[df['region'] == region, 'charges']\n",
    "    groups[region] = temp_df\n",
    "groups.keys()"
   ]
  },
  {
   "cell_type": "code",
   "execution_count": 38,
   "id": "de2de63d",
   "metadata": {
    "scrolled": true
   },
   "outputs": [
    {
     "data": {
      "text/plain": [
       "0       16884.92400\n",
       "12       1826.84300\n",
       "15       1837.23700\n",
       "18      10602.38500\n",
       "19      36837.46700\n",
       "           ...     \n",
       "1316     1731.67700\n",
       "1329    10325.20600\n",
       "1331    10795.93733\n",
       "1332    11411.68500\n",
       "1336     2007.94500\n",
       "Name: charges, Length: 325, dtype: float64"
      ]
     },
     "execution_count": 38,
     "metadata": {},
     "output_type": "execute_result"
    }
   ],
   "source": [
    "groups['southwest']"
   ]
  },
  {
   "cell_type": "code",
   "execution_count": 39,
   "id": "b0999948",
   "metadata": {},
   "outputs": [
    {
     "name": "stdout",
     "output_type": "stream",
     "text": [
      "8 outliers were removed from the southwest group.\n",
      "2 outliers were removed from the southeast group.\n",
      "7 outliers were removed from the northwest group.\n",
      "4 outliers were removed from the northeast group.\n"
     ]
    }
   ],
   "source": [
    "for region, data in groups.items():\n",
    "    # Calculate the number of outliers\n",
    "    outliers = np.abs(stats.zscore(data)) > 3\n",
    "    print(f\"{outliers.sum()} outliers were removed from the {region} group.\")\n",
    "    # Remove the outliers\n",
    "    groups[region] = data.loc[~outliers]"
   ]
  },
  {
   "cell_type": "markdown",
   "id": "d4b2efc1",
   "metadata": {},
   "source": [
    "- The outlier assumption is satisfied now that outliers have been removed."
   ]
  },
  {
   "cell_type": "markdown",
   "id": "32889913",
   "metadata": {},
   "source": [
    "##### **Assumption - Normality**"
   ]
  },
  {
   "cell_type": "code",
   "execution_count": 40,
   "id": "ba1fb062",
   "metadata": {
    "scrolled": false
   },
   "outputs": [],
   "source": [
    "# Loop through the groups and obtain\n",
    "# group count and the pvalue of the Normal Test\n",
    "norm_results = {}\n",
    "for i, data in groups.items():\n",
    "    stat, p = stats.normaltest(data)\n",
    "    norm_results[i] = {'n': len(data),\n",
    "                       'p':p}"
   ]
  },
  {
   "cell_type": "code",
   "execution_count": 41,
   "id": "26239972",
   "metadata": {},
   "outputs": [
    {
     "data": {
      "text/html": [
       "<div>\n",
       "<style scoped>\n",
       "    .dataframe tbody tr th:only-of-type {\n",
       "        vertical-align: middle;\n",
       "    }\n",
       "\n",
       "    .dataframe tbody tr th {\n",
       "        vertical-align: top;\n",
       "    }\n",
       "\n",
       "    .dataframe thead th {\n",
       "        text-align: right;\n",
       "    }\n",
       "</style>\n",
       "<table border=\"1\" class=\"dataframe\">\n",
       "  <thead>\n",
       "    <tr style=\"text-align: right;\">\n",
       "      <th></th>\n",
       "      <th>n</th>\n",
       "      <th>p</th>\n",
       "    </tr>\n",
       "  </thead>\n",
       "  <tbody>\n",
       "    <tr>\n",
       "      <th>southwest</th>\n",
       "      <td>317.0</td>\n",
       "      <td>7.728611e-22</td>\n",
       "    </tr>\n",
       "    <tr>\n",
       "      <th>southeast</th>\n",
       "      <td>362.0</td>\n",
       "      <td>1.936990e-13</td>\n",
       "    </tr>\n",
       "    <tr>\n",
       "      <th>northwest</th>\n",
       "      <td>318.0</td>\n",
       "      <td>2.940543e-19</td>\n",
       "    </tr>\n",
       "    <tr>\n",
       "      <th>northeast</th>\n",
       "      <td>320.0</td>\n",
       "      <td>3.557877e-17</td>\n",
       "    </tr>\n",
       "  </tbody>\n",
       "</table>\n",
       "</div>"
      ],
      "text/plain": [
       "               n             p\n",
       "southwest  317.0  7.728611e-22\n",
       "southeast  362.0  1.936990e-13\n",
       "northwest  318.0  2.940543e-19\n",
       "northeast  320.0  3.557877e-17"
      ]
     },
     "execution_count": 41,
     "metadata": {},
     "output_type": "execute_result"
    }
   ],
   "source": [
    "# Display a dataframe created from the norm_results dictonary and transpose it \n",
    "pd.DataFrame(norm_results).T"
   ]
  },
  {
   "cell_type": "code",
   "execution_count": 42,
   "id": "3dd156cd",
   "metadata": {},
   "outputs": [],
   "source": [
    "# Create and display a dataframe created from the norm_results dictonary and transpose it \n",
    "norm_results_df = pd.DataFrame(norm_results).T\n",
    "# Add a column to indicate if the group pvalue was significant or not\n",
    "norm_results_df['sig?'] = norm_results_df['p'] < .05"
   ]
  },
  {
   "cell_type": "code",
   "execution_count": 43,
   "id": "f4d7c7fc",
   "metadata": {},
   "outputs": [
    {
     "data": {
      "text/html": [
       "<div>\n",
       "<style scoped>\n",
       "    .dataframe tbody tr th:only-of-type {\n",
       "        vertical-align: middle;\n",
       "    }\n",
       "\n",
       "    .dataframe tbody tr th {\n",
       "        vertical-align: top;\n",
       "    }\n",
       "\n",
       "    .dataframe thead th {\n",
       "        text-align: right;\n",
       "    }\n",
       "</style>\n",
       "<table border=\"1\" class=\"dataframe\">\n",
       "  <thead>\n",
       "    <tr style=\"text-align: right;\">\n",
       "      <th></th>\n",
       "      <th>n</th>\n",
       "      <th>p</th>\n",
       "      <th>sig?</th>\n",
       "    </tr>\n",
       "  </thead>\n",
       "  <tbody>\n",
       "    <tr>\n",
       "      <th>southwest</th>\n",
       "      <td>317.0</td>\n",
       "      <td>7.728611e-22</td>\n",
       "      <td>True</td>\n",
       "    </tr>\n",
       "    <tr>\n",
       "      <th>southeast</th>\n",
       "      <td>362.0</td>\n",
       "      <td>1.936990e-13</td>\n",
       "      <td>True</td>\n",
       "    </tr>\n",
       "    <tr>\n",
       "      <th>northwest</th>\n",
       "      <td>318.0</td>\n",
       "      <td>2.940543e-19</td>\n",
       "      <td>True</td>\n",
       "    </tr>\n",
       "    <tr>\n",
       "      <th>northeast</th>\n",
       "      <td>320.0</td>\n",
       "      <td>3.557877e-17</td>\n",
       "      <td>True</td>\n",
       "    </tr>\n",
       "  </tbody>\n",
       "</table>\n",
       "</div>"
      ],
      "text/plain": [
       "               n             p  sig?\n",
       "southwest  317.0  7.728611e-22  True\n",
       "southeast  362.0  1.936990e-13  True\n",
       "northwest  318.0  2.940543e-19  True\n",
       "northeast  320.0  3.557877e-17  True"
      ]
     },
     "execution_count": 43,
     "metadata": {},
     "output_type": "execute_result"
    }
   ],
   "source": [
    "# Display the dataframe\n",
    "norm_results_df"
   ]
  },
  {
   "cell_type": "markdown",
   "id": "40d9bd16",
   "metadata": {},
   "source": [
    "- We have large enough groups (each n>20) that we can safely disregard the assumption of normality, even though:\n",
    "- The groups do NOT come from normal distributions.\n"
   ]
  },
  {
   "cell_type": "markdown",
   "id": "7979f26b",
   "metadata": {},
   "source": [
    "##### **Assumption Equal Variance**"
   ]
  },
  {
   "cell_type": "code",
   "execution_count": 44,
   "id": "e3a9c757",
   "metadata": {},
   "outputs": [
    {
     "name": "stdout",
     "output_type": "stream",
     "text": [
      "The p-value for the test was 3.2035503711783993e-06\n",
      "It was < the alpha value of 0.05, so\n",
      "A statistical significance exists. The null hypothesis is rejected and the alternative is supported that..\n",
      "All input samples are not from populations with equal variances.\n"
     ]
    }
   ],
   "source": [
    "# This function tests the null hypothesis that -\n",
    "ho = \"All input samples are from populations with equal variances.\"\n",
    "ha = \"All input samples are not from populations with equal variances.\"\n",
    "alpha = .05\n",
    "statistic, pvalue = stats.levene(*groups.values())\n",
    "\n",
    "alpha = .05\n",
    "if pvalue < alpha:\n",
    "    print(f'The p-value for the test was {pvalue}')\n",
    "    print(f'It was < the alpha value of {alpha}, so')\n",
    "    print(ha_desc)\n",
    "    print(ha)\n",
    "else:\n",
    "    print(f'The p-value for the test was {pvalue}')\n",
    "    print(f'It was > the alpha value of {alpha}, so')\n",
    "    print(ho_desc)\n",
    "    print(ho)    "
   ]
  },
  {
   "cell_type": "markdown",
   "id": "13885fbb",
   "metadata": {},
   "source": [
    "- The groups did not satisfy the Assumption for Variance, so we will not run the One-Way ANOVA test, we will use the Kruskal Test."
   ]
  },
  {
   "cell_type": "markdown",
   "id": "dae4590c",
   "metadata": {},
   "source": [
    "#### **Execute the selected test, or the alternative test (if you do not meet the assumptions) and**\n",
    "**Interpret your p-value and reject or fail to reject your null hypothesis**"
   ]
  },
  {
   "cell_type": "code",
   "execution_count": 45,
   "id": "058f3c86",
   "metadata": {},
   "outputs": [],
   "source": [
    "ho = 'No significant difference in charges exists between regions.'\n",
    "ha = 'A significant difference in charges exists between regions.'"
   ]
  },
  {
   "cell_type": "code",
   "execution_count": 46,
   "id": "5ce87dc5",
   "metadata": {},
   "outputs": [
    {
     "name": "stdout",
     "output_type": "stream",
     "text": [
      "The p-value for the test was 0.07468847911322242\n",
      "It was > the alpha value of 0.05, so\n",
      "No statistical significance exists. The null hypothesis was not rejected.\n",
      "No significant difference in charges exists between regions.\n"
     ]
    }
   ],
   "source": [
    "# Running Kruskal Test for Original Hypothesis\n",
    "statistic, pvalue = stats.kruskal(*groups.values())\n",
    "\n",
    "alpha = .05\n",
    "if pvalue < alpha:\n",
    "    print(f'The p-value for the test was {pvalue}')\n",
    "    print(f'It was < the alpha value of {alpha}, so')\n",
    "    print(ha_desc)\n",
    "    print(ha)\n",
    "else:\n",
    "    print(f'The p-value for the test was {pvalue}')\n",
    "    print(f'It was > the alpha value of {alpha}, so')\n",
    "    print(ho_desc)\n",
    "    print(ho)"
   ]
  },
  {
   "cell_type": "markdown",
   "id": "0bfcab54",
   "metadata": {},
   "source": [
    "#### **Show a supporting visualization that helps display the result**"
   ]
  },
  {
   "cell_type": "code",
   "execution_count": 47,
   "id": "9c384b81",
   "metadata": {},
   "outputs": [
    {
     "data": {
      "image/png": "[encoded data removed]",
      "text/plain": [
       "<Figure size 432x288 with 1 Axes>"
      ]
     },
     "metadata": {
      "needs_background": "light"
     },
     "output_type": "display_data"
    }
   ],
   "source": [
    "sns.barplot(data=df, x='region', y='charges', ci=68);"
   ]
  }
 ],
 "metadata": {
  "kernelspec": {
   "display_name": "Python (dojo-env)",
   "language": "python",
   "name": "dojo-env"
  },
  "language_info": {
   "codemirror_mode": {
    "name": "ipython",
    "version": 3
   },
   "file_extension": ".py",
   "mimetype": "text/x-python",
   "name": "python",
   "nbconvert_exporter": "python",
   "pygments_lexer": "ipython3",
   "version": "3.7.12"
  },
  "toc": {
   "base_numbering": 1,
   "nav_menu": {
    "height": "252px",
    "width": "195px"
   },
   "number_sections": true,
   "sideBar": true,
   "skip_h1_title": true,
   "title_cell": "Table of Contents",
   "title_sidebar": "Contents",
   "toc_cell": false,
   "toc_position": {
    "height": "calc(100% - 180px)",
    "left": "10px",
    "top": "150px",
    "width": "316px"
   },
   "toc_section_display": true,
   "toc_window_display": true
  }
 },
 "nbformat": 4,
 "nbformat_minor": 5
}
